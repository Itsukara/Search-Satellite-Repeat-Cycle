{
 "cells": [
  {
   "cell_type": "markdown",
   "metadata": {
    "colab_type": "text",
    "id": "BnrsRfTvqisl"
   },
   "source": [
    "# Search Repeat Cycle of Satellite from its TLE"
   ]
  },
  {
   "cell_type": "code",
   "execution_count": 1,
   "metadata": {
    "ExecuteTime": {
     "end_time": "2018-09-15T20:06:54.082416Z",
     "start_time": "2018-09-15T20:06:54.075419Z"
    },
    "colab": {},
    "colab_type": "code",
    "id": "kIKlwa9CtWxh"
   },
   "outputs": [],
   "source": [
    "import ephem"
   ]
  },
  {
   "cell_type": "code",
   "execution_count": 2,
   "metadata": {
    "ExecuteTime": {
     "end_time": "2018-09-15T20:06:56.635442Z",
     "start_time": "2018-09-15T20:06:56.632447Z"
    },
    "colab": {},
    "colab_type": "code",
    "id": "TNkbzIwpxNDe"
   },
   "outputs": [],
   "source": [
    "# Two Line Element\n",
    "line1 = \"WORLDVIEW-1 (WV-1)\"\n",
    "line2 = \"1 32060U 07041A   18258.02295190  .00000790  00000-0  35109-4 0  9993\"\n",
    "line3 = \"2 32060  97.3879  16.4069 0002228  57.6683  54.8987 15.24397549611548\"\n",
    "satellite = ephem.readtle(line1, line2, line3)"
   ]
  },
  {
   "cell_type": "code",
   "execution_count": 3,
   "metadata": {
    "ExecuteTime": {
     "end_time": "2018-09-15T20:06:57.909477Z",
     "start_time": "2018-09-15T20:06:57.906483Z"
    },
    "colab": {},
    "colab_type": "code",
    "id": "AMqpaFqKi9tk"
   },
   "outputs": [],
   "source": [
    "# Get Ephemeris Data\n",
    "def getEphem(satellite, date):\n",
    "  satellite.compute(date)\n",
    "  latitude  = satellite.sublat / ephem.degree\n",
    "  longitude = satellite.sublong / ephem.degree\n",
    "  hight     = satellite.elevation\n",
    "  mmotion   = satellite._n\n",
    "  obperiod  = 1 / mmotion\n",
    "  return (latitude, longitude, hight, mmotion, obperiod)"
   ]
  },
  {
   "cell_type": "code",
   "execution_count": 4,
   "metadata": {
    "ExecuteTime": {
     "end_time": "2018-09-15T20:06:58.933040Z",
     "start_time": "2018-09-15T20:06:58.930041Z"
    },
    "colab": {},
    "colab_type": "code",
    "id": "ijwBeTbskUtc"
   },
   "outputs": [],
   "source": [
    "# Search date with Latitude = 0\n",
    "# date: latitude must be near 0 at specified date\n",
    "# eps : small enough value\n",
    "def lat0date(satellite, date, eps):\n",
    "  d1 = date\n",
    "  satellite.compute(d1)\n",
    "  l1  = satellite.sublat / ephem.degree\n",
    " \n",
    "  d2 = d1 + eps\n",
    "  satellite.compute(d2)\n",
    "  l2  =satellite.sublat / ephem.degree\n",
    "\n",
    "  a = (l2 - l1) / eps\n",
    "  b = l1 - a * d1\n",
    "\n",
    "  dt   = -b / a\n",
    "  \n",
    "  return dt"
   ]
  },
  {
   "cell_type": "code",
   "execution_count": 5,
   "metadata": {
    "ExecuteTime": {
     "end_time": "2018-09-15T20:07:00.058329Z",
     "start_time": "2018-09-15T20:07:00.050329Z"
    },
    "colab": {
     "base_uri": "https://localhost:8080/",
     "height": 34
    },
    "colab_type": "code",
    "id": "1oEymrm6j1sE",
    "outputId": "4516585b-9df0-4d9e-8143-4bef340a65f7"
   },
   "outputs": [
    {
     "name": "stdout",
     "output_type": "stream",
     "text": [
      "Lat(+N):-0.1840, Long(+E):40.9467, Hight(m):496775.2, MeanMotion(RevPerDay):15.24397549, OrbitalPeriod(days):0.06559969\n"
     ]
    }
   ],
   "source": [
    "# Check Latitude is almost 0\n",
    "# Latitude must be near 0 at specified date\n",
    "dt  = ephem.Date(\"2018-09-18 10:46:01\")\n",
    "dt0 = dt\n",
    "\n",
    "(latitude, longitude, hight, mmotion, obperiod) = getEphem(satellite, dt)\n",
    "print(\"Lat(+N):%.4f, Long(+E):%.4f, Hight(m):%.1f, MeanMotion(RevPerDay):%.8f, OrbitalPeriod(days):%.8f\" % (latitude, longitude, hight, mmotion, obperiod))"
   ]
  },
  {
   "cell_type": "code",
   "execution_count": 6,
   "metadata": {
    "ExecuteTime": {
     "end_time": "2018-09-15T20:07:01.965152Z",
     "start_time": "2018-09-15T20:07:01.962135Z"
    },
    "colab": {
     "base_uri": "https://localhost:8080/",
     "height": 34
    },
    "colab_type": "code",
    "id": "H7e0CDzmk6cq",
    "outputId": "0f04ea91-5bff-456f-c037-f57c367af391"
   },
   "outputs": [
    {
     "name": "stdout",
     "output_type": "stream",
     "text": [
      "Lat(+N):0.0000, Long(+E):40.9827, Hight(m):496747.4, MeanMotion(RevPerDay):15.24397549, OrbitalPeriod(days):0.06559969\n"
     ]
    }
   ],
   "source": [
    "# Calculate time with Latitude = 0\n",
    "ep = obperiod / 360 / 10\n",
    "dt = lat0date(satellite, dt0, ep)\n",
    "dt00 = dt\n",
    "(latitude, longitude, hight, mmotion, obperiod) = getEphem(satellite, dt)\n",
    "print(\"Lat(+N):%.4f, Long(+E):%.4f, Hight(m):%.1f, MeanMotion(RevPerDay):%.8f, OrbitalPeriod(days):%.8f\" % (latitude, longitude, hight, mmotion, obperiod))\n",
    "\n",
    "latitude0  = latitude\n",
    "longitude0 = longitude\n",
    "mmotion0   = mmotion\n",
    "obperiod0  = obperiod"
   ]
  },
  {
   "cell_type": "code",
   "execution_count": 7,
   "metadata": {
    "ExecuteTime": {
     "end_time": "2018-09-15T20:07:03.141268Z",
     "start_time": "2018-09-15T20:07:03.114276Z"
    },
    "colab": {
     "base_uri": "https://localhost:8080/",
     "height": 357
    },
    "colab_type": "code",
    "id": "tTqp7D7Xlhk9",
    "outputId": "e0f52c18-67b6-487f-d90b-c47177535ee7"
   },
   "outputs": [
    {
     "name": "stdout",
     "output_type": "stream",
     "text": [
      "Repeat Cycle of WORLDVIEW-1 (WV-1)\n",
      "                                         Lat(+N) diff[deg]   diff[Km] |   Long(+E)  diff[deg]   diff[Km]\n",
      "[2018-09-18 19:45:58 =   0.00(days)]     0.0000    +0.0000    +0.0000 |    40.9827    +0.0000    +0.0000\n",
      "[2018-10-05 19:47:24 =  17.00(days)]     0.0000    -0.0000    -0.0001 |    40.6255    -0.3573   -39.7726\n",
      "[2018-10-18 19:42:38 =  30.00(days)]     0.0000    -0.0000    -0.0001 |    41.8222    +0.8395   +93.4510\n",
      "[2018-10-22 19:48:23 =  34.00(days)]     0.0000    -0.0000    -0.0001 |    40.3868    -0.5959   -66.3356\n",
      "[2018-11-04 19:43:14 =  47.00(days)]     0.0000    -0.0000    -0.0001 |    41.6753    +0.6925   +77.0932\n",
      "[2018-11-08 19:48:52 =  51.00(days)]     0.0000    -0.0000    -0.0001 |    40.2682    -0.7146   -79.5437\n",
      "[2018-11-21 19:43:22 =  64.00(days)]     0.0000    -0.0000    -0.0001 |    41.6482    +0.6655   +74.0808\n",
      "[2018-11-25 19:48:54 =  68.00(days)]     0.0000    -0.0000    -0.0001 |    40.2692    -0.7135   -79.4312\n",
      "[2018-12-08 19:43:02 =  81.00(days)]     0.0000    -0.0000    -0.0001 |    41.7397    +0.7570   +84.2643\n",
      "[2018-12-12 19:48:27 =  85.00(days)]     0.0000    -0.0000    -0.0001 |    40.3884    -0.5944   -66.1664\n",
      "[2018-12-25 19:42:14 =  98.00(days)]     0.0000    -0.0000    -0.0001 |    41.9483    +0.9656  +107.4909\n",
      "[2018-12-29 19:47:32 = 102.00(days)]     0.0000    -0.0000    -0.0001 |    40.6245    -0.3582   -39.8741\n",
      "[2019-01-15 19:46:09 = 119.00(days)]     0.0000    -0.0000    -0.0001 |    40.9782    -0.0045    -0.5007\n",
      "[2019-02-01 19:44:18 = 136.00(days)]     0.0000    -0.0000    -0.0001 |    41.4512    +0.4684   +52.1455\n",
      "[2019-02-05 19:49:21 = 140.00(days)]     0.0000    -0.0000    -0.0001 |    40.1901    -0.7926   -88.2347\n",
      "[2019-02-22 19:46:54 = 157.00(days)]     0.0000    -0.0000    -0.0001 |    40.8120    -0.1707   -19.0038\n",
      "[2019-03-11 19:43:58 = 174.00(days)]     0.0000    -0.0000    -0.0001 |    41.5539    +0.5712   +63.5832\n",
      "[2019-03-15 19:48:47 = 178.00(days)]     0.0000    -0.0000    -0.0001 |    40.3560    -0.6268   -69.7719\n"
     ]
    }
   ],
   "source": [
    "# Search Repeat Cycle\n",
    "\n",
    "maxlat   = 1.0 # max error of latitude[deg]\n",
    "maxlong  = 1.0 # max error of longitude[deg]\n",
    "maxdays  = 190 # max days of search\n",
    "\n",
    "latlen   = 40009 # Circumference - meridional [Km]\n",
    "longlen  = 40075 # Circumference - quatorial  [Km]\n",
    "\n",
    "dt = dt00\n",
    "print(\"Repeat Cycle of \" + satellite.name)\n",
    "print(\"                                         Lat(+N) diff[deg]   diff[Km] |   Long(+E)  diff[deg]   diff[Km]\")\n",
    "for d in range(int(maxdays * mmotion0)):\n",
    "  (latitude, longitude, _, _, _) = getEphem(satellite, dt)\n",
    "  difflat   = latitude  - latitude0\n",
    "  difflong  = longitude - longitude0\n",
    "  \n",
    "  if abs(difflat) < maxlat and abs(difflong) <maxlong:\n",
    "    dtstr= str(ephem.localtime(ephem.Date(dt)))[0:19]\n",
    "    days = dt - dt00\n",
    "    difflatlen  = difflat  / 360 * latlen\n",
    "    difflonglen = difflong / 360 * longlen\n",
    "    print(\"[%s = %6.2f(days)] %10.4f %+10.4f %+10.4f | %10.4f %+10.4f %+10.4f\" % (dtstr, days, latitude, difflat, difflatlen, longitude, difflong, difflonglen))\n",
    "\n",
    "  # update dt\n",
    "  dt = lat0date(satellite, dt + obperiod, ep)"
   ]
  },
  {
   "cell_type": "code",
   "execution_count": 0,
   "metadata": {
    "colab": {},
    "colab_type": "code",
    "id": "cBWAt7g1sv0Z"
   },
   "outputs": [],
   "source": []
  }
 ],
 "metadata": {
  "colab": {
   "collapsed_sections": [],
   "name": "Search-Satellite-Repeat-Cycle.ipynb",
   "provenance": [],
   "version": "0.3.2"
  },
  "kernelspec": {
   "display_name": "Python 3",
   "language": "python",
   "name": "python3"
  },
  "language_info": {
   "codemirror_mode": {
    "name": "ipython",
    "version": 3
   },
   "file_extension": ".py",
   "mimetype": "text/x-python",
   "name": "python",
   "nbconvert_exporter": "python",
   "pygments_lexer": "ipython3",
   "version": "3.6.5"
  },
  "toc": {
   "base_numbering": 1,
   "nav_menu": {},
   "number_sections": true,
   "sideBar": true,
   "skip_h1_title": false,
   "title_cell": "Table of Contents",
   "title_sidebar": "Contents",
   "toc_cell": false,
   "toc_position": {},
   "toc_section_display": true,
   "toc_window_display": false
  }
 },
 "nbformat": 4,
 "nbformat_minor": 1
}
