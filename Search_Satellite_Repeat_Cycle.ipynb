{
 "cells": [
  {
   "cell_type": "markdown",
   "metadata": {
    "colab_type": "text",
    "id": "BnrsRfTvqisl"
   },
   "source": [
    "# Search Repeat Cycle of Satellite from its TLE\n",
    "## Satellite must be polar orbit"
   ]
  },
  {
   "cell_type": "code",
   "execution_count": 1,
   "metadata": {
    "ExecuteTime": {
     "end_time": "2018-09-15T21:18:18.520925Z",
     "start_time": "2018-09-15T21:18:18.513933Z"
    },
    "colab": {},
    "colab_type": "code",
    "id": "kIKlwa9CtWxh"
   },
   "outputs": [],
   "source": [
    "import ephem"
   ]
  },
  {
   "cell_type": "code",
   "execution_count": 2,
   "metadata": {
    "ExecuteTime": {
     "end_time": "2018-09-15T21:18:19.155732Z",
     "start_time": "2018-09-15T21:18:19.153730Z"
    },
    "colab": {},
    "colab_type": "code",
    "id": "TNkbzIwpxNDe"
   },
   "outputs": [],
   "source": [
    "# Two Line Element\n",
    "line1 = \"WORLDVIEW-1 (WV-1)\"\n",
    "line2 = \"1 32060U 07041A   18258.02295190  .00000790  00000-0  35109-4 0  9993\"\n",
    "line3 = \"2 32060  97.3879  16.4069 0002228  57.6683  54.8987 15.24397549611548\"\n",
    "satellite = ephem.readtle(line1, line2, line3)"
   ]
  },
  {
   "cell_type": "code",
   "execution_count": 3,
   "metadata": {
    "ExecuteTime": {
     "end_time": "2018-09-15T21:18:19.827686Z",
     "start_time": "2018-09-15T21:18:19.824679Z"
    },
    "colab": {},
    "colab_type": "code",
    "id": "AMqpaFqKi9tk"
   },
   "outputs": [],
   "source": [
    "# Get Ephemeris Data\n",
    "def getEphem(satellite, date):\n",
    "  satellite.compute(date)\n",
    "  latitude  = satellite.sublat / ephem.degree\n",
    "  longitude = satellite.sublong / ephem.degree\n",
    "  hight     = satellite.elevation\n",
    "  mmotion   = satellite._n\n",
    "  obperiod  = 1 / mmotion\n",
    "  return (latitude, longitude, hight, mmotion, obperiod)"
   ]
  },
  {
   "cell_type": "code",
   "execution_count": 4,
   "metadata": {
    "ExecuteTime": {
     "end_time": "2018-09-15T21:18:20.956857Z",
     "start_time": "2018-09-15T21:18:20.952857Z"
    },
    "colab": {},
    "colab_type": "code",
    "id": "ijwBeTbskUtc"
   },
   "outputs": [],
   "source": [
    "# Search date with Latitude = lat\n",
    "# satellite: ephem object\n",
    "# date: latitude must be near lat at specified date\n",
    "# lat: target latitude\n",
    "# eps : small enough value\n",
    "def lat0date(satellite, date, lat, eps):\n",
    "  d1 = date\n",
    "  satellite.compute(d1)\n",
    "  l1  = satellite.sublat / ephem.degree\n",
    " \n",
    "  d2 = d1 + eps\n",
    "  satellite.compute(d2)\n",
    "  l2  =satellite.sublat / ephem.degree\n",
    "\n",
    "  a = (l2 - l1) / eps\n",
    "  b = l1 - a * d1\n",
    "\n",
    "  dt   = (lat - b) / a\n",
    "  \n",
    "  return dt"
   ]
  },
  {
   "cell_type": "code",
   "execution_count": 5,
   "metadata": {
    "ExecuteTime": {
     "end_time": "2018-09-15T21:18:21.779276Z",
     "start_time": "2018-09-15T21:18:21.770263Z"
    },
    "colab": {
     "base_uri": "https://localhost:8080/",
     "height": 34
    },
    "colab_type": "code",
    "id": "1oEymrm6j1sE",
    "outputId": "4516585b-9df0-4d9e-8143-4bef340a65f7"
   },
   "outputs": [
    {
     "name": "stdout",
     "output_type": "stream",
     "text": [
      "Lat(+N):41.3158, Long(+E):50.2697, Hight(m):498724.6, MeanMotion(RevPerDay):15.24397549, OrbitalPeriod(days):0.06559969\n"
     ]
    }
   ],
   "source": [
    "# Check Latitude is less than 45\n",
    "dt  = ephem.Date(\"2018-09-18 10:35:01\")\n",
    "\n",
    "(latitude, longitude, hight, mmotion, obperiod) = getEphem(satellite, dt)\n",
    "print(\"Lat(+N):%.4f, Long(+E):%.4f, Hight(m):%.1f, MeanMotion(RevPerDay):%.8f, OrbitalPeriod(days):%.8f\" % (latitude, longitude, hight, mmotion, obperiod))\n",
    "\n",
    "dt00 = dt\n",
    "latitude0  = latitude\n",
    "longitude0 = longitude\n",
    "mmotion0   = mmotion\n",
    "obperiod0  = obperiod"
   ]
  },
  {
   "cell_type": "code",
   "execution_count": 6,
   "metadata": {
    "ExecuteTime": {
     "end_time": "2018-09-15T21:18:22.782744Z",
     "start_time": "2018-09-15T21:18:22.754754Z"
    },
    "colab": {
     "base_uri": "https://localhost:8080/",
     "height": 357
    },
    "colab_type": "code",
    "id": "tTqp7D7Xlhk9",
    "outputId": "e0f52c18-67b6-487f-d90b-c47177535ee7"
   },
   "outputs": [
    {
     "name": "stdout",
     "output_type": "stream",
     "text": [
      "Repeat Cycle of WORLDVIEW-1 (WV-1)\n",
      "                                         Lat(+N) diff[deg]   diff[Km] |   Long(+E)  diff[deg]   diff[Km]\n",
      "[2018-09-18 19:35:01 =   0.00(days)]    41.3158    +0.0000    +0.0000 |    50.2697    +0.0000    +0.0000\n",
      "[2018-10-05 19:36:27 =  17.00(days)]    41.3158    -0.0000    -0.0011 |    49.9130    -0.3566   -39.6993\n",
      "[2018-10-18 19:31:41 =  30.00(days)]    41.3158    -0.0000    -0.0008 |    51.1095    +0.8398   +93.4913\n",
      "[2018-10-22 19:37:26 =  34.00(days)]    41.3158    -0.0000    -0.0004 |    49.6739    -0.5958   -66.3204\n",
      "[2018-11-04 19:32:17 =  47.00(days)]    41.3158    -0.0000    -0.0004 |    50.9614    +0.6917   +77.0031\n",
      "[2018-11-08 19:37:56 =  51.00(days)]    41.3158    -0.0000    -0.0011 |    49.5540    -0.7157   -79.6673\n",
      "[2018-11-21 19:32:26 =  64.00(days)]    41.3158    -0.0000    -0.0004 |    50.9333    +0.6637   +73.8808\n",
      "[2018-11-25 19:37:57 =  68.00(days)]    41.3158    -0.0000    -0.0008 |    49.5542    -0.7154   -79.6411\n",
      "[2018-12-08 19:32:05 =  81.00(days)]    41.3158    -0.0000    -0.0004 |    51.0249    +0.7553   +84.0784\n",
      "[2018-12-12 19:37:30 =  85.00(days)]    41.3158    -0.0000    -0.0008 |    49.6738    -0.5959   -66.3299\n",
      "[2018-12-25 19:31:17 =  98.00(days)]    41.3158    -0.0000    -0.0004 |    51.2347    +0.9650  +107.4240\n",
      "[2018-12-29 19:36:35 = 102.00(days)]    41.3158    -0.0000    -0.0004 |    49.9111    -0.3585   -39.9103\n",
      "[2019-01-15 19:35:12 = 119.00(days)]    41.3158    -0.0000    -0.0008 |    50.2655    -0.0041    -0.4611\n",
      "[2019-02-01 19:33:21 = 136.00(days)]    41.3158    -0.0000    -0.0004 |    50.7379    +0.4683   +52.1277\n",
      "[2019-02-05 19:38:24 = 140.00(days)]    41.3158    +0.0000    +0.0000 |    49.4766    -0.7931   -88.2822\n",
      "[2019-02-22 19:35:57 = 157.00(days)]    41.3158    -0.0000    -0.0004 |    50.0973    -0.1724   -19.1919\n",
      "[2019-03-11 19:33:02 = 174.00(days)]    41.3158    +0.0000    +0.0000 |    50.8386    +0.5689   +63.3350\n",
      "[2019-03-15 19:37:50 = 178.00(days)]    41.3158    +0.0000    +0.0000 |    49.6407    -0.6289   -70.0137\n"
     ]
    }
   ],
   "source": [
    "# Search Repeat Cycle\n",
    "eps      = obperiod / 360 / 10\n",
    "maxlat   = 1.0 # max error of latitude[deg]\n",
    "maxlong  = 1.0 # max error of longitude[deg]\n",
    "maxdays  = 190 # max days of search\n",
    "\n",
    "latlen   = 40009 # Circumference - meridional [Km]\n",
    "longlen  = 40075 # Circumference - quatorial  [Km]\n",
    "\n",
    "dt = dt00\n",
    "print(\"Repeat Cycle of \" + satellite.name)\n",
    "print(\"                                         Lat(+N) diff[deg]   diff[Km] |   Long(+E)  diff[deg]   diff[Km]\")\n",
    "for d in range(int(maxdays * mmotion0)):\n",
    "  (latitude, longitude, _, _, _) = getEphem(satellite, dt)\n",
    "  difflat   = latitude  - latitude0\n",
    "  difflong  = longitude - longitude0\n",
    "  \n",
    "  if abs(difflat) < maxlat and abs(difflong) <maxlong:\n",
    "    dtstr= str(ephem.localtime(ephem.Date(dt)))[0:19]\n",
    "    days = dt - dt00\n",
    "    difflatlen  = difflat  / 360 * latlen\n",
    "    difflonglen = difflong / 360 * longlen\n",
    "    print(\"[%s = %6.2f(days)] %10.4f %+10.4f %+10.4f | %10.4f %+10.4f %+10.4f\" % (dtstr, days, latitude, difflat, difflatlen, longitude, difflong, difflonglen))\n",
    "\n",
    "  # update dt\n",
    "  dt = lat0date(satellite, dt + obperiod, latitude0, eps)"
   ]
  }
 ],
 "metadata": {
  "colab": {
   "collapsed_sections": [],
   "name": "Search-Satellite-Repeat-Cycle.ipynb",
   "provenance": [],
   "version": "0.3.2"
  },
  "kernelspec": {
   "display_name": "Python 3",
   "language": "python",
   "name": "python3"
  },
  "language_info": {
   "codemirror_mode": {
    "name": "ipython",
    "version": 3
   },
   "file_extension": ".py",
   "mimetype": "text/x-python",
   "name": "python",
   "nbconvert_exporter": "python",
   "pygments_lexer": "ipython3",
   "version": "3.6.5"
  },
  "toc": {
   "base_numbering": 1,
   "nav_menu": {},
   "number_sections": true,
   "sideBar": true,
   "skip_h1_title": false,
   "title_cell": "Table of Contents",
   "title_sidebar": "Contents",
   "toc_cell": false,
   "toc_position": {},
   "toc_section_display": true,
   "toc_window_display": false
  }
 },
 "nbformat": 4,
 "nbformat_minor": 1
}
